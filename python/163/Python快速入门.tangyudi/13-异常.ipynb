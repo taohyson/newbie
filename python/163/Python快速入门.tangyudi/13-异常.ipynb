{
 "cells": [
  {
   "cell_type": "code",
   "execution_count": 3,
   "metadata": {
    "scrolled": true
   },
   "outputs": [
    {
     "name": "stdout",
     "output_type": "stream",
     "text": [
      "write a number:1\n",
      "0.0\n",
      "write a number:2\n",
      "0.6931471805599453\n",
      "write a number:0\n"
     ]
    },
    {
     "ename": "ValueError",
     "evalue": "math domain error",
     "output_type": "error",
     "traceback": [
      "\u001b[1;31m---------------------------------------------------------------------------\u001b[0m",
      "\u001b[1;31mValueError\u001b[0m                                Traceback (most recent call last)",
      "\u001b[1;32m<ipython-input-3-590126924cd5>\u001b[0m in \u001b[0;36m<module>\u001b[1;34m()\u001b[0m\n\u001b[0;32m      5\u001b[0m     \u001b[1;32mif\u001b[0m \u001b[1;33m(\u001b[0m\u001b[0minput_number\u001b[0m\u001b[1;33m)\u001b[0m \u001b[1;33m==\u001b[0m \u001b[1;34m'q'\u001b[0m\u001b[1;33m:\u001b[0m\u001b[1;33m\u001b[0m\u001b[0m\n\u001b[0;32m      6\u001b[0m         \u001b[1;32mbreak\u001b[0m\u001b[1;33m;\u001b[0m\u001b[1;33m\u001b[0m\u001b[0m\n\u001b[1;32m----> 7\u001b[1;33m     \u001b[0mresult\u001b[0m \u001b[1;33m=\u001b[0m \u001b[0mmath\u001b[0m\u001b[1;33m.\u001b[0m\u001b[0mlog\u001b[0m\u001b[1;33m(\u001b[0m\u001b[0mfloat\u001b[0m\u001b[1;33m(\u001b[0m\u001b[0minput_number\u001b[0m\u001b[1;33m)\u001b[0m\u001b[1;33m)\u001b[0m\u001b[1;33m\u001b[0m\u001b[0m\n\u001b[0m\u001b[0;32m      8\u001b[0m     \u001b[0mprint\u001b[0m\u001b[1;33m(\u001b[0m\u001b[0mresult\u001b[0m\u001b[1;33m)\u001b[0m\u001b[1;33m\u001b[0m\u001b[0m\n",
      "\u001b[1;31mValueError\u001b[0m: math domain error"
     ]
    }
   ],
   "source": [
    "import math\n",
    "\n",
    "for i in range(10):\n",
    "    input_number = input(\"write a number:\")\n",
    "    if (input_number) == 'q':\n",
    "        break;\n",
    "    result = math.log(float(input_number))\n",
    "    print(result)"
   ]
  },
  {
   "cell_type": "code",
   "execution_count": 5,
   "metadata": {
    "scrolled": true
   },
   "outputs": [
    {
     "name": "stdout",
     "output_type": "stream",
     "text": [
      "a number: 1\n",
      "0.0\n",
      "a number: 2\n",
      "0.6931471805599453\n",
      "a number: 0\n",
      "must > 0\n",
      "a number: q\n"
     ]
    }
   ],
   "source": [
    "import math\n",
    "\n",
    "for i in range(10):\n",
    "    try:\n",
    "        inn = input(\"a number: \")\n",
    "        if (inn == 'q'):\n",
    "            break;\n",
    "        print(math.log(float(inn)))\n",
    "    except ValueError:\n",
    "        print('must > 0')\n",
    "    except Exception:\n",
    "        print('exception')"
   ]
  },
  {
   "cell_type": "code",
   "execution_count": null,
   "metadata": {},
   "outputs": [
    {
     "name": "stdout",
     "output_type": "stream",
     "text": [
      "1\n",
      "invalid\n",
      "tang\n",
      "forbidden\n",
      "di\n",
      "OK\n",
      "q\n",
      "invalid\n"
     ]
    }
   ],
   "source": [
    "class TangError(ValueError):\n",
    "    pass\n",
    "class Tang2Error(ValueError):\n",
    "    pass\n",
    "\n",
    "cur_list = ['tang','yu','di']\n",
    "while True:\n",
    "    cur_input = input()\n",
    "    try:\n",
    "        if cur_input not in cur_list:\n",
    "            raise TangError(\"invalid input\")\n",
    "        elif cur_list.index(cur_input) == 0:\n",
    "            raise Tang2Error(\"first\")\n",
    "        else:\n",
    "            raise Exception(\"other\")\n",
    "    except TangError:\n",
    "        print(\"invalid\")\n",
    "    except Tang2Error:\n",
    "        print(\"forbidden\")\n",
    "    except Exception:\n",
    "        print(\"OK\")"
   ]
  },
  {
   "cell_type": "code",
   "execution_count": null,
   "metadata": {},
   "outputs": [],
   "source": []
  }
 ],
 "metadata": {
  "kernelspec": {
   "display_name": "Python 3",
   "language": "python",
   "name": "python3"
  },
  "language_info": {
   "codemirror_mode": {
    "name": "ipython",
    "version": 3
   },
   "file_extension": ".py",
   "mimetype": "text/x-python",
   "name": "python",
   "nbconvert_exporter": "python",
   "pygments_lexer": "ipython3",
   "version": "3.6.5"
  }
 },
 "nbformat": 4,
 "nbformat_minor": 2
}
