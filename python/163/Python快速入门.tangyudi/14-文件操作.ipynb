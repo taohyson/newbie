{
 "cells": [
  {
   "cell_type": "code",
   "execution_count": 1,
   "metadata": {},
   "outputs": [
    {
     "name": "stdout",
     "output_type": "stream",
     "text": [
      "Writing tang.txt\n"
     ]
    }
   ],
   "source": [
    "%%writefile tang.txt\n",
    "tang yu di\n",
    "hello python\n",
    "hello world"
   ]
  },
  {
   "cell_type": "code",
   "execution_count": 8,
   "metadata": {},
   "outputs": [
    {
     "name": "stdout",
     "output_type": "stream",
     "text": [
      "tang yu di\n",
      "hello python\n",
      "hello world\n"
     ]
    }
   ],
   "source": [
    "txt = open(\"tang.txt\")\n",
    "print(txt.read())\n",
    "txt.close()"
   ]
  },
  {
   "cell_type": "code",
   "execution_count": 9,
   "metadata": {},
   "outputs": [],
   "source": [
    "txt = open(\"tang_write.txt\",'w')\n",
    "txt.write('it is sunny today\\n')\n",
    "txt.write('it is cold today')\n",
    "txt.close()"
   ]
  },
  {
   "cell_type": "code",
   "execution_count": 15,
   "metadata": {},
   "outputs": [],
   "source": [
    "txt = open(\"tang_write.txt\",'a')\n",
    "txt.write('it is sunny today\\n')\n",
    "txt.write('it is cold today')\n",
    "txt.close()"
   ]
  },
  {
   "cell_type": "code",
   "execution_count": 16,
   "metadata": {},
   "outputs": [],
   "source": [
    "with open('tang_write.txt','w') as f:\n",
    "    f.write('today is good')"
   ]
  },
  {
   "cell_type": "code",
   "execution_count": null,
   "metadata": {},
   "outputs": [],
   "source": []
  }
 ],
 "metadata": {
  "kernelspec": {
   "display_name": "Python 3",
   "language": "python",
   "name": "python3"
  },
  "language_info": {
   "codemirror_mode": {
    "name": "ipython",
    "version": 3
   },
   "file_extension": ".py",
   "mimetype": "text/x-python",
   "name": "python",
   "nbconvert_exporter": "python",
   "pygments_lexer": "ipython3",
   "version": "3.6.5"
  }
 },
 "nbformat": 4,
 "nbformat_minor": 2
}
